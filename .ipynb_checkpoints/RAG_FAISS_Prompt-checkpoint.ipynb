{
 "cells": [
  {
   "cell_type": "code",
   "execution_count": 1,
   "id": "a14ed123",
   "metadata": {},
   "outputs": [],
   "source": [
    "from langchain.text_splitter import RecursiveCharacterTextSplitter\n",
    "from langchain.vectorstores import FAISS\n",
    "#from langchain_community.vectorstores import FAISS\n",
    "from langchain_community.document_loaders import DirectoryLoader\n",
    "from langchain_community.document_loaders import PyPDFLoader\n",
    "import os\n",
    "\n",
    "BasePath = \"./faiss_db\""
   ]
  },
  {
   "cell_type": "code",
   "execution_count": 2,
   "id": "0a8b1c4e",
   "metadata": {},
   "outputs": [
    {
     "name": "stderr",
     "output_type": "stream",
     "text": [
      "  0%|                                                                                                                                                                                       | 0/1 [00:00<?, ?it/s]Ignoring wrong pointing object 9 0 (offset 0)\n",
      "Ignoring wrong pointing object 18 0 (offset 0)\n",
      "Ignoring wrong pointing object 25 0 (offset 0)\n",
      "Ignoring wrong pointing object 32 0 (offset 0)\n",
      "Ignoring wrong pointing object 39 0 (offset 0)\n",
      "Ignoring wrong pointing object 46 0 (offset 0)\n",
      "Ignoring wrong pointing object 61 0 (offset 0)\n",
      "Ignoring wrong pointing object 68 0 (offset 0)\n",
      "Ignoring wrong pointing object 76 0 (offset 0)\n",
      "Ignoring wrong pointing object 83 0 (offset 0)\n",
      "Ignoring wrong pointing object 90 0 (offset 0)\n",
      "Ignoring wrong pointing object 97 0 (offset 0)\n",
      "Ignoring wrong pointing object 112 0 (offset 0)\n",
      "Ignoring wrong pointing object 123 0 (offset 0)\n",
      "Ignoring wrong pointing object 130 0 (offset 0)\n",
      "Ignoring wrong pointing object 153 0 (offset 0)\n",
      "Ignoring wrong pointing object 165 0 (offset 0)\n",
      "Ignoring wrong pointing object 180 0 (offset 0)\n",
      "Ignoring wrong pointing object 195 0 (offset 0)\n",
      "Ignoring wrong pointing object 202 0 (offset 0)\n",
      "Ignoring wrong pointing object 204 0 (offset 0)\n",
      "100%|███████████████████████████████████████████████████████████████████████████████████████████████████████████████████████████████████████████████████████████████████████████████| 1/1 [00:00<00:00,  2.84it/s]\n"
     ]
    }
   ],
   "source": [
    "loader = DirectoryLoader(path = './PDF', glob=\"./*.pdf\", loader_cls=PyPDFLoader, show_progress=True,exclude='Tutorial_EDIT.pdf')\n",
    "docs = loader.load()"
   ]
  },
  {
   "cell_type": "code",
   "execution_count": 4,
   "id": "0fdb9235",
   "metadata": {},
   "outputs": [
    {
     "data": {
      "text/plain": [
       "20"
      ]
     },
     "execution_count": 4,
     "metadata": {},
     "output_type": "execute_result"
    }
   ],
   "source": [
    "len(docs)"
   ]
  },
  {
   "cell_type": "code",
   "execution_count": 5,
   "id": "08b48d67",
   "metadata": {},
   "outputs": [
    {
     "data": {
      "text/plain": [
       "Document(metadata={'source': 'PDF\\\\Lecture_8.pdf', 'page': 19}, page_content='Sets•Special data type introduced since Python 2.4 onwards to support mathematical set theory operations. •Unorderedcollectionof unique items.•Set itself is mutable, BUT every item inthesethastobeanimmutabletype.•So,setscan have numbers, strings and tuples as items but cannot havelistsordictionariesasitems.')"
      ]
     },
     "execution_count": 5,
     "metadata": {},
     "output_type": "execute_result"
    }
   ],
   "source": [
    "some_docs = docs[0:50]\n",
    "some_docs[-1]"
   ]
  },
  {
   "cell_type": "code",
   "execution_count": 6,
   "id": "4bba7bcd",
   "metadata": {},
   "outputs": [],
   "source": [
    "r_splitter = RecursiveCharacterTextSplitter(\n",
    "            chunk_size = 1000,\n",
    "            chunk_overlap = 200,\n",
    "            separators = [\"\\n\\n\", \"\\n\", \"(?<=\\.)\", \" \", \"\"])"
   ]
  },
  {
   "cell_type": "code",
   "execution_count": 7,
   "id": "edbd17dd",
   "metadata": {},
   "outputs": [
    {
     "data": {
      "text/plain": [
       "20"
      ]
     },
     "execution_count": 7,
     "metadata": {},
     "output_type": "execute_result"
    }
   ],
   "source": [
    "splits = r_splitter.split_documents(some_docs)\n",
    "len(splits)"
   ]
  },
  {
   "cell_type": "code",
   "execution_count": 8,
   "id": "80b3dd42",
   "metadata": {},
   "outputs": [],
   "source": [
    "from langchain_community.embeddings import OllamaEmbeddings\n",
    "\n",
    "embeddings = (\n",
    "    OllamaEmbeddings(model='all-minilm')\n",
    ")  "
   ]
  },
  {
   "cell_type": "code",
   "execution_count": 9,
   "id": "cb34e87b",
   "metadata": {},
   "outputs": [
    {
     "name": "stdout",
     "output_type": "stream",
     "text": [
      "base_url='http://localhost:11434' model='all-minilm' embed_instruction='passage: ' query_instruction='query: ' mirostat=None mirostat_eta=None mirostat_tau=None num_ctx=None num_gpu=None num_thread=None repeat_last_n=None repeat_penalty=None temperature=None stop=None tfs_z=None top_k=None top_p=None show_progress=False headers=None model_kwargs=None\n"
     ]
    }
   ],
   "source": [
    "print(embeddings)"
   ]
  },
  {
   "cell_type": "code",
   "execution_count": 10,
   "id": "4e404017",
   "metadata": {},
   "outputs": [],
   "source": [
    "db = FAISS.from_documents(splits, embeddings)"
   ]
  },
  {
   "cell_type": "code",
   "execution_count": 11,
   "id": "719de91e",
   "metadata": {},
   "outputs": [],
   "source": [
    "db.save_local(BasePath)"
   ]
  },
  {
   "cell_type": "code",
   "execution_count": 12,
   "id": "0941df8b",
   "metadata": {},
   "outputs": [],
   "source": [
    "contexts = db.similarity_search_with_score(\"What is python?\", k=3)"
   ]
  },
  {
   "cell_type": "code",
   "execution_count": 13,
   "id": "8400310c",
   "metadata": {},
   "outputs": [
    {
     "name": "stdout",
     "output_type": "stream",
     "text": [
      "Python Interpreter•The system component of Python is the interpreter.•The interpreter isindependentofyourcode and is required to execute your code.•Two major versions of interpreter are currently available:•Python 2.7.X (broader support, legacy libraries)•Python3.6.X (newer features, better future support)\n"
     ]
    }
   ],
   "source": [
    "print(contexts[0][0].page_content)"
   ]
  },
  {
   "cell_type": "code",
   "execution_count": 14,
   "id": "16174b47",
   "metadata": {},
   "outputs": [
    {
     "name": "stdout",
     "output_type": "stream",
     "text": [
      "{'source': 'PDF\\\\Lecture_8.pdf', 'page': 2}\n"
     ]
    }
   ],
   "source": [
    "print(contexts[0][0].metadata)"
   ]
  },
  {
   "cell_type": "markdown",
   "id": "fccb1f7c",
   "metadata": {},
   "source": [
    "Prompt Engineering:"
   ]
  },
  {
   "cell_type": "code",
   "execution_count": 15,
   "id": "969ab72c",
   "metadata": {},
   "outputs": [],
   "source": [
    "import ollama\n",
    "from langchain_community.chat_models import ChatOllama\n",
    "\n",
    "llm = ChatOllama(model=\"tinyllama\", format=\"json\", temperature=0)"
   ]
  },
  {
   "cell_type": "code",
   "execution_count": 17,
   "id": "9a4f0d9a",
   "metadata": {},
   "outputs": [],
   "source": [
    "retriever = FAISS.load_local(BasePath, embeddings,allow_dangerous_deserialization =True).as_retriever()"
   ]
  },
  {
   "cell_type": "code",
   "execution_count": 18,
   "id": "9b3a4944",
   "metadata": {},
   "outputs": [],
   "source": [
    "from langchain.prompts import PromptTemplate\n",
    "from langchain.chains import create_retrieval_chain\n",
    "from langchain.chains.combine_documents import create_stuff_documents_chain\n",
    "from langchain_core.prompts import ChatPromptTemplate"
   ]
  },
  {
   "cell_type": "code",
   "execution_count": 19,
   "id": "a0e56e43",
   "metadata": {},
   "outputs": [],
   "source": [
    "system_prompt = (\n",
    "    \"Use the given context to answer the question. \"\n",
    "    \"If you don't know the answer, say you don't know. \"\n",
    "    \"Use three sentence maximum and keep the answer concise. \"\n",
    "    \"Context: {context}\"\n",
    ")\n",
    "prompt = ChatPromptTemplate.from_messages(\n",
    "    [\n",
    "        (\"system\", system_prompt),\n",
    "        (\"human\", \"{input}\"),\n",
    "    ]\n",
    ")"
   ]
  },
  {
   "cell_type": "code",
   "execution_count": 20,
   "id": "d2ce9b2c",
   "metadata": {},
   "outputs": [],
   "source": [
    "question_answer_chain = create_stuff_documents_chain(llm, prompt)\n",
    "chain = create_retrieval_chain(retriever, question_answer_chain)"
   ]
  },
  {
   "cell_type": "code",
   "execution_count": 21,
   "id": "3cdb4923",
   "metadata": {},
   "outputs": [],
   "source": [
    "response = chain.invoke({\"input\": \"What is python?\"})"
   ]
  },
  {
   "cell_type": "code",
   "execution_count": 22,
   "id": "b4938ab0",
   "metadata": {},
   "outputs": [
    {
     "data": {
      "text/plain": [
       "dict_keys(['input', 'context', 'answer'])"
      ]
     },
     "execution_count": 22,
     "metadata": {},
     "output_type": "execute_result"
    }
   ],
   "source": [
    "response.keys()"
   ]
  },
  {
   "cell_type": "code",
   "execution_count": 23,
   "id": "724ff09f",
   "metadata": {},
   "outputs": [
    {
     "data": {
      "text/plain": [
       "[Document(metadata={'source': 'PDF\\\\Lecture_8.pdf', 'page': 2}, page_content='Python Interpreter•The system component of Python is the interpreter.•The interpreter isindependentofyourcode and is required to execute your code.•Two major versions of interpreter are currently available:•Python 2.7.X (broader support, legacy libraries)•Python3.6.X (newer features, better future support)'),\n",
       " Document(metadata={'source': 'PDF\\\\Lecture_8.pdf', 'page': 1}, page_content='Why Python?•Readabilityandease-of-maintenance•Python focuses on well-structured easy to read code•Easier to understand source code…•..hence easier to maintain code base•Portability•Scripting language hence easily portabble•Python interpreter is supported onmostmodern OS’s•Extensibilitywithlibraries•Large base of third-party libraries that greatly extend functionality. Eg., NumPy, SciPyetc.'),\n",
       " Document(metadata={'source': 'PDF\\\\Lecture_8.pdf', 'page': 8}, page_content='What is an Object?•Almost everything is an object in Python, and it belongs to a certain class.•Python is dynamically and strongly typed:•Dynamic: Objects are created dynamically when they are initiated and assigned to a class.•Strong:Operations on objects are limited by the type of the object.•Everyvariableyoucreate is either a built-in  data type object OR a new class you created.'),\n",
       " Document(metadata={'source': 'PDF\\\\Lecture_8.pdf', 'page': 0}, page_content='Introduction to Python: Data typesHORT 59000Lecture 8Instructor: Kranthi Varala')]"
      ]
     },
     "execution_count": 23,
     "metadata": {},
     "output_type": "execute_result"
    }
   ],
   "source": [
    "response['context']"
   ]
  },
  {
   "cell_type": "code",
   "execution_count": null,
   "id": "b50e3ced",
   "metadata": {},
   "outputs": [],
   "source": []
  }
 ],
 "metadata": {
  "kernelspec": {
   "display_name": "Python 3 (ipykernel)",
   "language": "python",
   "name": "python3"
  },
  "language_info": {
   "codemirror_mode": {
    "name": "ipython",
    "version": 3
   },
   "file_extension": ".py",
   "mimetype": "text/x-python",
   "name": "python",
   "nbconvert_exporter": "python",
   "pygments_lexer": "ipython3",
   "version": "3.9.18"
  }
 },
 "nbformat": 4,
 "nbformat_minor": 5
}
