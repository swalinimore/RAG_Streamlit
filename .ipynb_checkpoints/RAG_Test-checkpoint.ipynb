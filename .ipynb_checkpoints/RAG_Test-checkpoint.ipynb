{
 "cells": [
  {
   "cell_type": "code",
   "execution_count": 1,
   "id": "701834a3",
   "metadata": {},
   "outputs": [],
   "source": [
    "import os\n",
    "from langchain_community.document_loaders import DirectoryLoader # To load the document\n",
    "from langchain_community.document_loaders import PyPDFLoader # To specify the type of document, PDF is this case"
   ]
  },
  {
   "cell_type": "code",
   "execution_count": 2,
   "id": "fcde81bf",
   "metadata": {},
   "outputs": [],
   "source": [
    "# define the path to save the embeddings\n",
    "BasePath = \"./faiss_db_test\""
   ]
  },
  {
   "cell_type": "code",
   "execution_count": 3,
   "id": "d510d0bc",
   "metadata": {},
   "outputs": [
    {
     "name": "stderr",
     "output_type": "stream",
     "text": [
      "100%|███████████████████████████████████████████████████████████████████████████████████████████████████████████████████████████████████████████████████████████████████████████████| 1/1 [00:03<00:00,  3.38s/it]\n"
     ]
    }
   ],
   "source": [
    "## https://python.langchain.com/v0.1/docs/modules/data_connection/document_loaders/file_directory/\n",
    "#Load the documents\n",
    "\n",
    "loader = DirectoryLoader(path = './PDF', glob=\"./*.pdf\", loader_cls=PyPDFLoader, show_progress=True,exclude='Lecture_8.pdf')\n",
    "docs = loader.load()"
   ]
  },
  {
   "cell_type": "code",
   "execution_count": 4,
   "id": "3ad4025b",
   "metadata": {},
   "outputs": [
    {
     "data": {
      "text/plain": [
       "155"
      ]
     },
     "execution_count": 4,
     "metadata": {},
     "output_type": "execute_result"
    }
   ],
   "source": [
    "len(docs)"
   ]
  },
  {
   "cell_type": "code",
   "execution_count": 5,
   "id": "36c9844d",
   "metadata": {},
   "outputs": [
    {
     "data": {
      "text/plain": [
       "Document(metadata={'source': 'PDF\\\\Tutorial_EDIT.pdf', 'page': 49}, page_content=\"Python Tutorial, Release 3.7.0\\n(continued from previous page)\\n[0, 1, 1, 2, 3, 5, 8, 13, 21, 34, 55, 89]\\n>>>fibo.__name__\\n'fibo'\\nIf you intend to use a function often you can assign it to a local name:\\n>>>fib=fibo.fib\\n>>>fib(500)\\n0 1 1 2 3 5 8 13 21 34 55 89 144 233 377\\n6.1More on Modules\\nA module can contain executable statements as well as function deﬁnitions. These statements are intended\\nto initialize the module. They are executed only the ﬁrsttime the module name is encountered in an import\\nstatement.1(They are also run if the ﬁle is executed as a script.)\\nEach module has its own private symbol table, which is used as the global symbol table by all functions\\ndeﬁned in the module. Thus, the author of a module can use global variables in the module without\\nworrying about accidental clashes with a user’s global variables. On the other hand, if you know what you\\nare doing you can touch a module’s global variables with the same notation used to refer to its functions,\\nmodname.itemname .\\nModules can import other modules. It is customary but not required to place all importstatements at the\\nbeginning of a module (or script, for that matter). The imported module names are placed in the importing\\nmodule’s global symbol table.\\nThere is a variant of the importstatement that imports names from a module directly into the importing\\nmodule’s symbol table. For example:\\n>>> from fibo importfib, fib2\\n>>>fib(500)\\n0 1 1 2 3 5 8 13 21 34 55 89 144 233 377\\nThis does not introduce the module name from which the imports are taken in the local symbol table (so in\\nthe example, fibois not deﬁned).\\nThere is even a variant to import all names that a module deﬁnes:\\n>>> from fibo import*\\n>>>fib(500)\\n0 1 1 2 3 5 8 13 21 34 55 89 144 233 377\\nThis imports all names except those beginning with an underscore ( _). In most cases Python programmers\\ndo not use this facility since it introduces an unknown set of names into the interpreter, possibly hiding some\\nthings you have already deﬁned.\\nNote that in general the practice of importing *from a module or package is frowned upon, since it often\\ncauses poorly readable code. However, it is okay to use it to save typing in interactive sessions.\\nIf the module name is followed by as, then the name following asis bound directly to the imported module.\\n>>> import fibo as fib\\n>>>fib.fib(500)\\n0 1 1 2 3 5 8 13 21 34 55 89 144 233 377\\n1In fact function deﬁnitions are also ‘statements’ that are ‘executed’; the execution of a module-level function deﬁnition\\nenters the function name in the module’s global symbol table.\\n44 Chapter 6. Modules\")"
      ]
     },
     "execution_count": 5,
     "metadata": {},
     "output_type": "execute_result"
    }
   ],
   "source": [
    "input_docs = docs[0:50]\n",
    "input_docs[-1]"
   ]
  },
  {
   "cell_type": "markdown",
   "id": "2f86ed13",
   "metadata": {},
   "source": [
    "## Splitting the text"
   ]
  },
  {
   "cell_type": "code",
   "execution_count": 6,
   "id": "7154e8c4",
   "metadata": {},
   "outputs": [],
   "source": [
    "from langchain.text_splitter import RecursiveCharacterTextSplitter\n",
    "r_splitter = RecursiveCharacterTextSplitter(\n",
    "            chunk_size = 1000,\n",
    "            chunk_overlap = 200,\n",
    "            separators = [\"\\n\\n\", \"\\n\", \"(?<=\\.)\", \" \", \"\"])"
   ]
  },
  {
   "cell_type": "code",
   "execution_count": 7,
   "id": "54d845d3",
   "metadata": {},
   "outputs": [
    {
     "data": {
      "text/plain": [
       "123"
      ]
     },
     "execution_count": 7,
     "metadata": {},
     "output_type": "execute_result"
    }
   ],
   "source": [
    "split_docs = r_splitter.split_documents(input_docs)\n",
    "len(split_docs)"
   ]
  },
  {
   "cell_type": "markdown",
   "id": "7c512c36",
   "metadata": {},
   "source": [
    "## Embeddings"
   ]
  },
  {
   "cell_type": "code",
   "execution_count": 8,
   "id": "21bf5d73",
   "metadata": {},
   "outputs": [],
   "source": [
    "## https://python.langchain.com/v0.2/docs/integrations/text_embedding/ollama/\n",
    "\n",
    "from langchain_community.embeddings import OllamaEmbeddings\n",
    "\n",
    "\n",
    "embeddings = (\n",
    "    OllamaEmbeddings(model='all-minilm')\n",
    ")  "
   ]
  },
  {
   "cell_type": "code",
   "execution_count": 9,
   "id": "802ef520",
   "metadata": {},
   "outputs": [
    {
     "name": "stdout",
     "output_type": "stream",
     "text": [
      "base_url='http://localhost:11434' model='all-minilm' embed_instruction='passage: ' query_instruction='query: ' mirostat=None mirostat_eta=None mirostat_tau=None num_ctx=None num_gpu=None num_thread=None repeat_last_n=None repeat_penalty=None temperature=None stop=None tfs_z=None top_k=None top_p=None show_progress=False headers=None model_kwargs=None\n"
     ]
    }
   ],
   "source": [
    "print(embeddings)"
   ]
  },
  {
   "cell_type": "markdown",
   "id": "a4e0e1dd",
   "metadata": {},
   "source": [
    "## Use Vector DB to store the embeddings"
   ]
  },
  {
   "cell_type": "code",
   "execution_count": 10,
   "id": "1581acd4",
   "metadata": {},
   "outputs": [],
   "source": [
    "from langchain.vectorstores import FAISS\n",
    "\n",
    "db = FAISS.from_documents(split_docs, embeddings)"
   ]
  },
  {
   "cell_type": "code",
   "execution_count": 11,
   "id": "abbdd0e3",
   "metadata": {},
   "outputs": [],
   "source": [
    "db.save_local(BasePath)"
   ]
  },
  {
   "cell_type": "code",
   "execution_count": 12,
   "id": "4e6d39a2",
   "metadata": {},
   "outputs": [],
   "source": [
    "contexts = db.similarity_search_with_score(\"What is python?\", k=3)"
   ]
  },
  {
   "cell_type": "code",
   "execution_count": 13,
   "id": "1d928cd7",
   "metadata": {},
   "outputs": [
    {
     "name": "stdout",
     "output_type": "stream",
     "text": [
      "Python Tutorial, Release 3.7.0\n",
      "18 Chapter 3. An Informal Introduction to Python\n"
     ]
    }
   ],
   "source": [
    "print(contexts[0][0].page_content)"
   ]
  },
  {
   "cell_type": "code",
   "execution_count": 14,
   "id": "e34b4311",
   "metadata": {},
   "outputs": [
    {
     "name": "stdout",
     "output_type": "stream",
     "text": [
      "{'source': 'PDF\\\\Tutorial_EDIT.pdf', 'page': 23}\n"
     ]
    }
   ],
   "source": [
    "print(contexts[0][0].metadata)"
   ]
  },
  {
   "cell_type": "markdown",
   "id": "545dd02e",
   "metadata": {},
   "source": [
    "## Prompt Engineering"
   ]
  },
  {
   "cell_type": "code",
   "execution_count": 15,
   "id": "fb386232",
   "metadata": {},
   "outputs": [],
   "source": [
    "import ollama\n",
    "from langchain_community.chat_models import ChatOllama\n",
    "\n",
    "llm = ChatOllama(model=\"tinyllama\", format=\"json\", temperature=0)"
   ]
  },
  {
   "cell_type": "code",
   "execution_count": 16,
   "id": "f8d6c874",
   "metadata": {},
   "outputs": [],
   "source": [
    "retriever = FAISS.load_local(BasePath, embeddings,allow_dangerous_deserialization =True).as_retriever()"
   ]
  },
  {
   "cell_type": "code",
   "execution_count": 17,
   "id": "7ca74f4c",
   "metadata": {},
   "outputs": [],
   "source": [
    "from langchain.prompts import PromptTemplate\n",
    "from langchain.chains import create_retrieval_chain\n",
    "from langchain.chains.combine_documents import create_stuff_documents_chain\n",
    "from langchain_core.prompts import ChatPromptTemplate"
   ]
  },
  {
   "cell_type": "code",
   "execution_count": 18,
   "id": "7464e6d2",
   "metadata": {},
   "outputs": [],
   "source": [
    "system_prompt = (\n",
    "    \"Use the given context to answer the question. \"\n",
    "    \"If you don't know the answer, say you don't know. \"\n",
    "    \"Use three sentence maximum and keep the answer concise. \"\n",
    "    \"Context: {context}\"\n",
    ")\n",
    "prompt = ChatPromptTemplate.from_messages(\n",
    "    [\n",
    "        (\"system\", system_prompt),\n",
    "        (\"human\", \"{input}\"),\n",
    "    ]\n",
    ")"
   ]
  },
  {
   "cell_type": "code",
   "execution_count": 19,
   "id": "a6c75a95",
   "metadata": {},
   "outputs": [],
   "source": [
    "question_answer_chain = create_stuff_documents_chain(llm, prompt)\n",
    "chain = create_retrieval_chain(retriever, question_answer_chain)"
   ]
  },
  {
   "cell_type": "code",
   "execution_count": 20,
   "id": "9c4e10f1",
   "metadata": {},
   "outputs": [],
   "source": [
    "response = chain.invoke({\"input\": \"What is python?\"})"
   ]
  },
  {
   "cell_type": "code",
   "execution_count": 21,
   "id": "d257823f",
   "metadata": {},
   "outputs": [
    {
     "data": {
      "text/plain": [
       "dict_keys(['input', 'context', 'answer'])"
      ]
     },
     "execution_count": 21,
     "metadata": {},
     "output_type": "execute_result"
    }
   ],
   "source": [
    "response.keys()"
   ]
  },
  {
   "cell_type": "code",
   "execution_count": 22,
   "id": "80c490c4",
   "metadata": {},
   "outputs": [
    {
     "data": {
      "text/plain": [
       "[Document(metadata={'source': 'PDF\\\\Tutorial_EDIT.pdf', 'page': 23}, page_content='Python Tutorial, Release 3.7.0\\n18 Chapter 3. An Informal Introduction to Python'),\n",
       " Document(metadata={'source': 'PDF\\\\Tutorial_EDIT.pdf', 'page': 6}, page_content='idea of the language’s ﬂavor and style. After reading it, you will be able to read and write Python modules\\nand programs, and you will be ready to learn more about the various Python library modules described in\\nlibrary-index.\\nThe Glossary is also worth going through.\\nCONTENTS 1'),\n",
       " Document(metadata={'source': 'PDF\\\\Tutorial_EDIT.pdf', 'page': 13}, page_content='Python Tutorial, Release 3.7.0\\n8 Chapter 2. Using the Python Interpreter'),\n",
       " Document(metadata={'source': 'PDF\\\\Tutorial_EDIT.pdf', 'page': 6}, page_content='Python Tutorial, Release 3.7.0\\nPython is an easy to learn, powerful programming language. It has eﬃcient high-level data structures and\\na simple but eﬀective approach to object-oriented programming. Python’s elegant syntax and dynamic\\ntyping, together with its interpreted nature, make it an ideal language for scripting and rapid application\\ndevelopment in many areas on most platforms.\\nThe Python interpreter and the extensive standard library are freely available in source or binary form for all\\nmajor platforms from the Python Web site, https://www.python.org/ , and may be freely distributed. The\\nsame site also contains distributions of and pointers to many free third party Python modules, programs\\nand tools, and additional documentation.\\nThe Python interpreter is easily extended with new functions and data types implemented in C or C++\\n(or other languages callable from C). Python is also suitable as an extension language for customizable\\napplications.')]"
      ]
     },
     "execution_count": 22,
     "metadata": {},
     "output_type": "execute_result"
    }
   ],
   "source": [
    "response['context']"
   ]
  },
  {
   "cell_type": "code",
   "execution_count": null,
   "id": "d59d200a",
   "metadata": {},
   "outputs": [],
   "source": []
  }
 ],
 "metadata": {
  "kernelspec": {
   "display_name": "Python 3 (ipykernel)",
   "language": "python",
   "name": "python3"
  },
  "language_info": {
   "codemirror_mode": {
    "name": "ipython",
    "version": 3
   },
   "file_extension": ".py",
   "mimetype": "text/x-python",
   "name": "python",
   "nbconvert_exporter": "python",
   "pygments_lexer": "ipython3",
   "version": "3.9.18"
  }
 },
 "nbformat": 4,
 "nbformat_minor": 5
}
